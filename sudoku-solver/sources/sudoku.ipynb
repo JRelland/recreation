{
 "cells": [
  {
   "cell_type": "code",
   "execution_count": 1,
   "metadata": {},
   "outputs": [],
   "source": [
    "%load_ext autoreload\n",
    "%autoreload 2"
   ]
  },
  {
   "cell_type": "code",
   "execution_count": 2,
   "metadata": {},
   "outputs": [],
   "source": [
    "from sudoku_solver_solution_toussaic import Grid\n",
    "from samples import sample1"
   ]
  },
  {
   "cell_type": "code",
   "execution_count": 3,
   "metadata": {},
   "outputs": [],
   "source": [
    "g1 = Grid()\n",
    "g1.populate(sample1)"
   ]
  },
  {
   "cell_type": "code",
   "execution_count": 7,
   "metadata": {},
   "outputs": [
    {
     "data": {
      "text/html": [
       "<style>\n",
       ".rendered_html tr.sep {\n",
       "    background-color: #000; \n",
       "    width: 3px;\n",
       "}\n",
       ".rendered_html td.sep, .rendered_html th.sep {\n",
       "    background-color: #000; \n",
       "    padding-top: 0px;\n",
       "    padding-bottom: 0px;\n",
       "} \n",
       ".rendered_html td.digit, .rendered_html th.digit{\n",
       "    text-color: #000;\n",
       "    padding-top: 0px;\n",
       "    padding-bottom: 0px;\n",
       "    font-family: monaco;\n",
       "}\n",
       "</style><table><thead><tr><th></th><th class='digit'>1</th><th class='digit'>2</th><th class='digit'>3</th><th class='sep'></th><th class='digit'>4</th><th class='digit'>5</th><th class='digit'>6</th><th class='sep'></th><th class='digit'>7</th><th class='digit'>8</th><th class='digit'>9</th></tr></thead><tbody><tr style='color:white;'><th class='digit'>1</th><td class='digit' style='color:white;'>1</td><td class='digit' style='color:white;'>9</td><td class='digit' style='color:white;'>3</td><td class='sep' style='background-color:black;'></td><td class='digit' style='color:white;'>2</td><td class='digit' style='color:white;'>8</td><td class='digit' style='color:white;'>4</td><td class='sep' style='background-color:black;'></td><td class='digit' style='color:white;'>6</td><td class='digit' style='color:white;'>7</td><td class='digit' style='color:white;'>5</td></tr><tr style='color:white;'><th class='digit'>2</th><td class='digit' style='color:white;'>5</td><td class='digit' style='color:white;'>8</td><td class='digit' style='color:white;'>4</td><td class='sep' style='background-color:black;'></td><td class='digit' style='color:white;'>6</td><td class='digit' style='color:white;'>3</td><td class='digit' style='color:white;'>7</td><td class='sep' style='background-color:black;'></td><td class='digit' style='color:white;'>2</td><td class='digit' style='color:white;'>9</td><td class='digit' style='color:white;'>1</td></tr><tr style='color:white;'><th class='digit'>3</th><td class='digit' style='color:white;'>2</td><td class='digit' style='color:white;'>6</td><td class='digit' style='color:white;'>7</td><td class='sep' style='background-color:black;'></td><td class='digit' style='color:white;'>9</td><td class='digit' style='color:white;'>5</td><td class='digit' style='color:white;'>1</td><td class='sep' style='background-color:black;'></td><td class='digit' style='color:white;'>8</td><td class='digit' style='color:white;'>4</td><td class='digit' style='color:white;'>3</td></tr><tr class='sep'><td colspan=13></td></tr><tr style='color:white;'><th class='digit'>4</th><td class='digit' style='color:white;'>4</td><td class='digit' style='color:white;'>3</td><td class='digit' style='color:white;'>2</td><td class='sep' style='background-color:black;'></td><td class='digit' style='color:white;'>5</td><td class='digit' style='color:white;'>6</td><td class='digit' style='color:white;'>9</td><td class='sep' style='background-color:black;'></td><td class='digit' style='color:white;'>7</td><td class='digit' style='color:white;'>1</td><td class='digit' style='color:white;'>8</td></tr><tr style='color:white;'><th class='digit'>5</th><td class='digit' style='color:white;'>6</td><td class='digit' style='color:white;'>7</td><td class='digit' style='color:white;'>8</td><td class='sep' style='background-color:black;'></td><td class='digit' style='color:white;'>1</td><td class='digit' style='color:white;'>4</td><td class='digit' style='color:white;'>2</td><td class='sep' style='background-color:black;'></td><td class='digit' style='color:white;'>5</td><td class='digit' style='color:white;'>3</td><td class='digit' style='color:white;'>9</td></tr><tr style='color:white;'><th class='digit'>6</th><td class='digit' style='color:white;'>9</td><td class='digit' style='color:white;'>1</td><td class='digit' style='color:white;'>5</td><td class='sep' style='background-color:black;'></td><td class='digit' style='color:white;'>8</td><td class='digit' style='color:white;'>7</td><td class='digit' style='color:white;'>3</td><td class='sep' style='background-color:black;'></td><td class='digit' style='color:white;'>4</td><td class='digit' style='color:white;'>2</td><td class='digit' style='color:white;'>6</td></tr><tr class='sep'><td colspan=13></td></tr><tr style='color:white;'><th class='digit'>7</th><td class='digit' style='color:white;'>3</td><td class='digit' style='color:white;'>5</td><td class='digit' style='color:white;'>1</td><td class='sep' style='background-color:black;'></td><td class='digit' style='color:white;'>4</td><td class='digit' style='color:white;'>2</td><td class='digit' style='color:white;'>8</td><td class='sep' style='background-color:black;'></td><td class='digit' style='color:white;'>9</td><td class='digit' style='color:white;'>6</td><td class='digit' style='color:white;'>7</td></tr><tr style='color:white;'><th class='digit'>8</th><td class='digit' style='color:white;'>7</td><td class='digit' style='color:white;'>2</td><td class='digit' style='color:white;'>6</td><td class='sep' style='background-color:black;'></td><td class='digit' style='color:white;'>3</td><td class='digit' style='color:white;'>9</td><td class='digit' style='color:white;'>5</td><td class='sep' style='background-color:black;'></td><td class='digit' style='color:white;'>1</td><td class='digit' style='color:white;'>8</td><td class='digit' style='color:white;'>4</td></tr><tr style='color:white;'><th class='digit'>9</th><td class='digit' style='color:white;'>8</td><td class='digit' style='color:white;'>4</td><td class='digit' style='color:white;'>9</td><td class='sep' style='background-color:black;'></td><td class='digit' style='color:white;'>7</td><td class='digit' style='color:white;'>1</td><td class='digit' style='color:white;'>6</td><td class='sep' style='background-color:black;'></td><td class='digit' style='color:white;'>3</td><td class='digit' style='color:white;'>5</td><td class='digit' style='color:white;'>2</td></tr></tbody></table>"
      ],
      "text/plain": [
       "<IPython.core.display.HTML object>"
      ]
     },
     "execution_count": 7,
     "metadata": {},
     "output_type": "execute_result"
    }
   ],
   "source": [
    "# first attempt to do formatting ourselves\n",
    "# not exactly convincing..\n",
    "from notebook import notebook\n",
    "\n",
    "notebook(g1)"
   ]
  },
  {
   "cell_type": "code",
   "execution_count": 8,
   "metadata": {},
   "outputs": [
    {
     "name": "stdout",
     "output_type": "stream",
     "text": [
      "Solution found !\n",
      "[1,9,3|2,8,4|6,7,5]\n",
      "[5,8,4|6,3,7|2,9,1]\n",
      "[2,6,7|9,5,1|8,4,3]\n",
      "------------------\n",
      "[4,3,2|5,6,9|7,1,8]\n",
      "[6,7,8|1,4,2|5,3,9]\n",
      "[9,1,5|8,7,3|4,2,6]\n",
      "------------------\n",
      "[3,5,1|4,2,8|9,6,7]\n",
      "[7,2,6|3,9,5|1,8,4]\n",
      "[8,4,9|7,1,6|3,5,2]\n",
      "------------------\n",
      "\n"
     ]
    },
    {
     "data": {
      "text/html": [
       "<style>\n",
       ".rendered_html tr.sep {\n",
       "    background-color: #000; \n",
       "    width: 3px;\n",
       "}\n",
       ".rendered_html td.sep, .rendered_html th.sep {\n",
       "    background-color: #000; \n",
       "    padding-top: 0px;\n",
       "    padding-bottom: 0px;\n",
       "} \n",
       ".rendered_html td.digit, .rendered_html th.digit{\n",
       "    text-color: #000;\n",
       "    padding-top: 0px;\n",
       "    padding-bottom: 0px;\n",
       "    font-family: monaco;\n",
       "}\n",
       "</style><table><thead><tr><th></th><th class='digit'>1</th><th class='digit'>2</th><th class='digit'>3</th><th class='sep'></th><th class='digit'>4</th><th class='digit'>5</th><th class='digit'>6</th><th class='sep'></th><th class='digit'>7</th><th class='digit'>8</th><th class='digit'>9</th></tr></thead><tbody><tr style='color:white;'><th class='digit'>1</th><td class='digit' style='color:white;'>1</td><td class='digit' style='color:white;'>9</td><td class='digit' style='color:white;'>3</td><td class='sep' style='background-color:black;'></td><td class='digit' style='color:white;'>2</td><td class='digit' style='color:white;'>8</td><td class='digit' style='color:white;'>4</td><td class='sep' style='background-color:black;'></td><td class='digit' style='color:white;'>6</td><td class='digit' style='color:white;'>7</td><td class='digit' style='color:white;'>5</td></tr><tr style='color:white;'><th class='digit'>2</th><td class='digit' style='color:white;'>5</td><td class='digit' style='color:white;'>8</td><td class='digit' style='color:white;'>4</td><td class='sep' style='background-color:black;'></td><td class='digit' style='color:white;'>6</td><td class='digit' style='color:white;'>3</td><td class='digit' style='color:white;'>7</td><td class='sep' style='background-color:black;'></td><td class='digit' style='color:white;'>2</td><td class='digit' style='color:white;'>9</td><td class='digit' style='color:white;'>1</td></tr><tr style='color:white;'><th class='digit'>3</th><td class='digit' style='color:white;'>2</td><td class='digit' style='color:white;'>6</td><td class='digit' style='color:white;'>7</td><td class='sep' style='background-color:black;'></td><td class='digit' style='color:white;'>9</td><td class='digit' style='color:white;'>5</td><td class='digit' style='color:white;'>1</td><td class='sep' style='background-color:black;'></td><td class='digit' style='color:white;'>8</td><td class='digit' style='color:white;'>4</td><td class='digit' style='color:white;'>3</td></tr><tr class='sep'><td colspan=13></td></tr><tr style='color:white;'><th class='digit'>4</th><td class='digit' style='color:white;'>4</td><td class='digit' style='color:white;'>3</td><td class='digit' style='color:white;'>2</td><td class='sep' style='background-color:black;'></td><td class='digit' style='color:white;'>5</td><td class='digit' style='color:white;'>6</td><td class='digit' style='color:white;'>9</td><td class='sep' style='background-color:black;'></td><td class='digit' style='color:white;'>7</td><td class='digit' style='color:white;'>1</td><td class='digit' style='color:white;'>8</td></tr><tr style='color:white;'><th class='digit'>5</th><td class='digit' style='color:white;'>6</td><td class='digit' style='color:white;'>7</td><td class='digit' style='color:white;'>8</td><td class='sep' style='background-color:black;'></td><td class='digit' style='color:white;'>1</td><td class='digit' style='color:white;'>4</td><td class='digit' style='color:white;'>2</td><td class='sep' style='background-color:black;'></td><td class='digit' style='color:white;'>5</td><td class='digit' style='color:white;'>3</td><td class='digit' style='color:white;'>9</td></tr><tr style='color:white;'><th class='digit'>6</th><td class='digit' style='color:white;'>9</td><td class='digit' style='color:white;'>1</td><td class='digit' style='color:white;'>5</td><td class='sep' style='background-color:black;'></td><td class='digit' style='color:white;'>8</td><td class='digit' style='color:white;'>7</td><td class='digit' style='color:white;'>3</td><td class='sep' style='background-color:black;'></td><td class='digit' style='color:white;'>4</td><td class='digit' style='color:white;'>2</td><td class='digit' style='color:white;'>6</td></tr><tr class='sep'><td colspan=13></td></tr><tr style='color:white;'><th class='digit'>7</th><td class='digit' style='color:white;'>3</td><td class='digit' style='color:white;'>5</td><td class='digit' style='color:white;'>1</td><td class='sep' style='background-color:black;'></td><td class='digit' style='color:white;'>4</td><td class='digit' style='color:white;'>2</td><td class='digit' style='color:white;'>8</td><td class='sep' style='background-color:black;'></td><td class='digit' style='color:white;'>9</td><td class='digit' style='color:white;'>6</td><td class='digit' style='color:white;'>7</td></tr><tr style='color:white;'><th class='digit'>8</th><td class='digit' style='color:white;'>7</td><td class='digit' style='color:white;'>2</td><td class='digit' style='color:white;'>6</td><td class='sep' style='background-color:black;'></td><td class='digit' style='color:white;'>3</td><td class='digit' style='color:white;'>9</td><td class='digit' style='color:white;'>5</td><td class='sep' style='background-color:black;'></td><td class='digit' style='color:white;'>1</td><td class='digit' style='color:white;'>8</td><td class='digit' style='color:white;'>4</td></tr><tr style='color:white;'><th class='digit'>9</th><td class='digit' style='color:white;'>8</td><td class='digit' style='color:white;'>4</td><td class='digit' style='color:white;'>9</td><td class='sep' style='background-color:black;'></td><td class='digit' style='color:white;'>7</td><td class='digit' style='color:white;'>1</td><td class='digit' style='color:white;'>6</td><td class='sep' style='background-color:black;'></td><td class='digit' style='color:white;'>3</td><td class='digit' style='color:white;'>5</td><td class='digit' style='color:white;'>2</td></tr></tbody></table>"
      ],
      "text/plain": [
       "<IPython.core.display.HTML object>"
      ]
     },
     "execution_count": 8,
     "metadata": {},
     "output_type": "execute_result"
    }
   ],
   "source": [
    "g1.solve()\n",
    "notebook(g1)"
   ]
  },
  {
   "cell_type": "code",
   "execution_count": 5,
   "metadata": {},
   "outputs": [
    {
     "data": {
      "text/html": [
       "<iframe src=http://www.sudoku-solutions.com/index.php?page=SUDOKU9BY9&puzzle=...2............91..79..84....56.7....8.4.....1...3..635....9...2...5....4.7..3.. width='800' height='500'/>"
      ],
      "text/plain": [
       "<IPython.core.display.HTML object>"
      ]
     },
     "execution_count": 5,
     "metadata": {},
     "output_type": "execute_result"
    }
   ],
   "source": [
    "# just defer to a publicly available website \n",
    "# much better already\n",
    "from notebook import external_iframe\n",
    "\n",
    "external_iframe(g1)"
   ]
  },
  {
   "cell_type": "code",
   "execution_count": null,
   "metadata": {},
   "outputs": [],
   "source": []
  }
 ],
 "metadata": {
  "kernelspec": {
   "display_name": "Python 3",
   "language": "python",
   "name": "python3"
  },
  "language_info": {
   "codemirror_mode": {
    "name": "ipython",
    "version": 3
   },
   "file_extension": ".py",
   "mimetype": "text/x-python",
   "name": "python",
   "nbconvert_exporter": "python",
   "pygments_lexer": "ipython3",
   "version": "3.6.3"
  }
 },
 "nbformat": 4,
 "nbformat_minor": 2
}
