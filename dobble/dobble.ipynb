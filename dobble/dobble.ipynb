{
 "cells": [
  {
   "cell_type": "code",
   "execution_count": 1,
   "metadata": {},
   "outputs": [],
   "source": [
    "class Card(set):\n",
    "    counter = 1\n",
    "    def __init__(self, *args, **kwds):\n",
    "        set.__init__(self, *args, **kwds)\n",
    "        self.counter = Card.counter \n",
    "        Card.counter += 1\n",
    "        \n",
    "    def __repr__(self):\n",
    "        return f\"[{self.counter:2d}] \" + set.__repr__(self)"
   ]
  },
  {
   "cell_type": "code",
   "execution_count": 2,
   "metadata": {},
   "outputs": [],
   "source": [
    "def read_cards():\n",
    "    with open('cards.raw') as f:\n",
    "        return [Card(line.split()) for line in f]"
   ]
  },
  {
   "cell_type": "code",
   "execution_count": 3,
   "metadata": {},
   "outputs": [
    {
     "name": "stdout",
     "output_type": "stream",
     "text": [
      "we have 55 cards\n"
     ]
    }
   ],
   "source": [
    "cards = read_cards()\n",
    "print(f\"we have {len(cards)} cards\")"
   ]
  },
  {
   "cell_type": "code",
   "execution_count": 4,
   "metadata": {},
   "outputs": [],
   "source": [
    "for card in cards:\n",
    "    if len(card) != 8:\n",
    "        print(f\"OOPS {card} -> {len(card)}\")"
   ]
  },
  {
   "cell_type": "code",
   "execution_count": 5,
   "metadata": {},
   "outputs": [
    {
     "name": "stdout",
     "output_type": "stream",
     "text": [
      "we have 57 symbols\n"
     ]
    }
   ],
   "source": [
    "symbols = set()\n",
    "for card in cards:\n",
    "    symbols = symbols | card\n",
    "print(f\"we have {len(symbols)} symbols\")"
   ]
  },
  {
   "cell_type": "code",
   "execution_count": 6,
   "metadata": {},
   "outputs": [
    {
     "data": {
      "text/plain": [
       "57"
      ]
     },
     "execution_count": 6,
     "metadata": {},
     "output_type": "execute_result"
    }
   ],
   "source": [
    "len(symbols)"
   ]
  },
  {
   "cell_type": "code",
   "execution_count": 7,
   "metadata": {},
   "outputs": [
    {
     "name": "stdout",
     "output_type": "stream",
     "text": [
      "marguerite     cadenas        sensinterdit   flocon         dobble         marteau        bombe          \n",
      "crayon         arbre          trefle         crane          auto           fantome        zebre          \n",
      "oeil           interrogation  carotte        pioupiou       lunettes       coccinelle     glacon         \n",
      "soleil         cible          clown          dauphin        clesol         chat           trex           \n",
      "cle            hippocampe     bonhomme       erable         yinyang        ancre          cavalier       \n",
      "chien          biberon        pomme          horloge        igloo          exclamation    ciseaux        \n",
      "gruyere        toile          coeur          lune           goutte         cactus         bouche         \n",
      "araignee       taches         tortue         ampoule        bonhommeneige  eclair         bougie         \n",
      "feu            "
     ]
    }
   ],
   "source": [
    "columns = 7\n",
    "for i, symbol in enumerate(symbols):\n",
    "    print(f\"{symbol:15s}\", end=\"\")\n",
    "    if (i+1) % columns == 0:\n",
    "        print()\n"
   ]
  },
  {
   "cell_type": "code",
   "execution_count": 8,
   "metadata": {},
   "outputs": [],
   "source": [
    "conflicts = {}\n",
    "\n",
    "for c1 in cards:\n",
    "    for c2 in cards:\n",
    "        # c'est subtil ici, on penserait faire continue\n",
    "        # mais si fait ça on a deu fois trop de couples \n",
    "        # comme on est sûr que les deux boucles se font dans le même ordre\n",
    "        # on peut mettre break \n",
    "        if c1 is c2:\n",
    "            break\n",
    "        common = len(c1 & c2)\n",
    "        if common != 1:\n",
    "            print(f\"--- {common} with {c1} and\\n{c2} \")\n",
    "            conflicts.setdefault(common, [])\n",
    "            conflicts[common].append( (c1, c2) )\n",
    "            print(c1 & c2)"
   ]
  },
  {
   "cell_type": "code",
   "execution_count": 9,
   "metadata": {},
   "outputs": [],
   "source": [
    "for l in conflicts:\n",
    "    print(f\"we have found {len(conflicts[l])} couples of cards with {l} items in common\")"
   ]
  }
 ],
 "metadata": {
  "kernelspec": {
   "display_name": "Python 3",
   "language": "python",
   "name": "python3"
  },
  "language_info": {
   "codemirror_mode": {
    "name": "ipython",
    "version": 3
   },
   "file_extension": ".py",
   "mimetype": "text/x-python",
   "name": "python",
   "nbconvert_exporter": "python",
   "pygments_lexer": "ipython3",
   "version": "3.6.4"
  }
 },
 "nbformat": 4,
 "nbformat_minor": 2
}
