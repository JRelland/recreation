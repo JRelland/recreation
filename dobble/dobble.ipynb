{
 "cells": [
  {
   "cell_type": "markdown",
   "metadata": {},
   "source": [
    "# Le jeu de dobble"
   ]
  },
  {
   "cell_type": "code",
   "execution_count": 1,
   "metadata": {},
   "outputs": [],
   "source": [
    "# une carte est un ensemble de symboles\n",
    "# et un symbole est représenté par une simple chaine\n",
    "class Card(set):\n",
    "    \"\"\"\n",
    "    le modèle pour chaque carte du jeu\n",
    "    \"\"\"\n",
    "    \n",
    "    # on leur donne un numéro arbitraire\n",
    "    # dans l'ordre du paquet \n",
    "    counter = 1\n",
    "    \n",
    "    def __init__(self, *args, **kwds):\n",
    "        set.__init__(self, *args, **kwds)\n",
    "        self.counter = Card.counter \n",
    "        Card.counter += 1\n",
    "        \n",
    "    def __repr__(self):\n",
    "        return f\"[{self.counter:2d}] \" + set.__repr__(self)\n",
    "    \n",
    "    def __hash__(self):\n",
    "        return self.counter"
   ]
  },
  {
   "cell_type": "markdown",
   "metadata": {},
   "source": [
    "### construction du paquet de cartes"
   ]
  },
  {
   "cell_type": "code",
   "execution_count": 2,
   "metadata": {},
   "outputs": [],
   "source": [
    "def read_cards():\n",
    "    with open('cards.raw') as f:\n",
    "        return [Card(line.split()) for line in f]"
   ]
  },
  {
   "cell_type": "markdown",
   "metadata": {},
   "source": [
    "Attention à ne pas utiliser juste `cards` parce que c'est un nom de variable qu'on va massivement utiliser"
   ]
  },
  {
   "cell_type": "code",
   "execution_count": 3,
   "metadata": {},
   "outputs": [
    {
     "name": "stdout",
     "output_type": "stream",
     "text": [
      "we have 55 cards\n"
     ]
    }
   ],
   "source": [
    "all_cards = read_cards()\n",
    "print(f\"we have {len(all_cards)} cards\")"
   ]
  },
  {
   "cell_type": "markdown",
   "metadata": {},
   "source": [
    "### combien de symboles"
   ]
  },
  {
   "cell_type": "code",
   "execution_count": 4,
   "metadata": {},
   "outputs": [
    {
     "name": "stdout",
     "output_type": "stream",
     "text": [
      "we have 57 symbols\n"
     ]
    }
   ],
   "source": [
    "symbols = set()\n",
    "for card in all_cards:\n",
    "    symbols = symbols | card\n",
    "print(f\"we have {len(symbols)} symbols\")"
   ]
  },
  {
   "cell_type": "code",
   "execution_count": 5,
   "metadata": {},
   "outputs": [
    {
     "name": "stdout",
     "output_type": "stream",
     "text": [
      "crayon         crane          flocon         cadenas        igloo          lunettes       marguerite     \n",
      "clesol         pomme          bougie         interrogation  cavalier       bonhomme       bombe          \n",
      "feu            chat           cle            marteau        bouche         chien          lune           \n",
      "coccinelle     trefle         gruyere        glacon         clown          goutte         fantome        \n",
      "ciseaux        yinyang        arbre          sensinterdit   ampoule        oeil           toile          \n",
      "dauphin        auto           hippocampe     soleil         tortue         ancre          cactus         \n",
      "taches         erable         bonhommeneige  carotte        eclair         coeur          pioupiou       \n",
      "araignee       biberon        zebre          trex           horloge        dobble         exclamation    \n",
      "cible          "
     ]
    }
   ],
   "source": [
    "columns = 7\n",
    "for i, symbol in enumerate(symbols):\n",
    "    print(f\"{symbol:15s}\", end=\"\")\n",
    "    if (i+1) % columns == 0:\n",
    "        print()"
   ]
  },
  {
   "cell_type": "markdown",
   "metadata": {},
   "source": [
    "### vérifications"
   ]
  },
  {
   "cell_type": "markdown",
   "metadata": {},
   "source": [
    "Toutes les cartes ont 8 symboles"
   ]
  },
  {
   "cell_type": "code",
   "execution_count": 6,
   "metadata": {},
   "outputs": [],
   "source": [
    "for card in all_cards:\n",
    "    if len(card) != 8:\n",
    "        print(f\"OOPS {card} -> {len(card)}\")"
   ]
  },
  {
   "cell_type": "markdown",
   "metadata": {},
   "source": [
    "Exactement un point entre 2 cartes quelconques"
   ]
  },
  {
   "cell_type": "code",
   "execution_count": 7,
   "metadata": {},
   "outputs": [],
   "source": [
    "# on range les conflits par cardinal de l'intersection (0 ou 2)\n",
    "conflicts = {}\n",
    "\n",
    "for c1 in all_cards:\n",
    "    for c2 in all_cards:\n",
    "        # comme on est sûr que les deux boucles se font\n",
    "        # dans le même ordre, on peut mettre break \n",
    "        # si on fait continue, on a deux fois trop de couples \n",
    "        if c1 is c2:\n",
    "            break\n",
    "        # combien de cartes en commun\n",
    "        common = len(c1 & c2)\n",
    "        if common != 1:\n",
    "            print(f\"--- {common} with {c1} and\\n{c2} \")\n",
    "            conflicts.setdefault(common, [])\n",
    "            conflicts[common].append( (c1, c2) )\n",
    "            print(c1 & c2)"
   ]
  },
  {
   "cell_type": "code",
   "execution_count": 8,
   "metadata": {},
   "outputs": [],
   "source": [
    "for l in conflicts:\n",
    "    print(f\"we have found {len(conflicts[l])} couples of cards with {l} items in common\")"
   ]
  },
  {
   "cell_type": "markdown",
   "metadata": {},
   "source": [
    "### symboles les plus utilisés"
   ]
  },
  {
   "cell_type": "code",
   "execution_count": 9,
   "metadata": {},
   "outputs": [],
   "source": [
    "from collections import defaultdict"
   ]
  },
  {
   "cell_type": "markdown",
   "metadata": {},
   "source": [
    "`symbol_to_cards` : un hash (dictionnaire) qui associe à un symbole l'ensemble des cartes où il apparaît"
   ]
  },
  {
   "cell_type": "code",
   "execution_count": 10,
   "metadata": {},
   "outputs": [],
   "source": [
    "symbol_to_cards = defaultdict(set)\n",
    "\n",
    "for card in all_cards:\n",
    "    for symbol in card:\n",
    "        symbol_to_cards[symbol].add(card)"
   ]
  },
  {
   "cell_type": "markdown",
   "metadata": {},
   "source": [
    "On le trie par fréquence d'apparition"
   ]
  },
  {
   "cell_type": "code",
   "execution_count": 11,
   "metadata": {},
   "outputs": [],
   "source": [
    "# transform in an ordered list\n",
    "# less frequent first\n",
    "\n",
    "symbol_cards_list = list(symbol_to_cards.items())\n",
    "symbol_cards_list.sort(key=lambda item: len(item[1]))"
   ]
  },
  {
   "cell_type": "code",
   "execution_count": 12,
   "metadata": {},
   "outputs": [
    {
     "name": "stdout",
     "output_type": "stream",
     "text": [
      "  bonhommeneige [6]        bonhomme [7]     exclamation [7]            oeil [7]          cactus [7] \n",
      "           trex [7]      coccinelle [7]      marguerite [7]         marteau [7]          erable [7] \n",
      "          chien [7]          glacon [7]           crane [7]         ampoule [7]   interrogation [7] \n",
      "            feu [8]           coeur [8]        pioupiou [8]        lunettes [8]           toile [8] \n",
      "        yinyang [8]          flocon [8]         biberon [8]          clesol [8]          tortue [8] \n",
      "          clown [8]           ancre [8]           pomme [8]         dauphin [8]         fantome [8] \n",
      "            cle [8]         cadenas [8]          bouche [8]            auto [8]          crayon [8] \n",
      "          zebre [8]         horloge [8]      hippocampe [8]          dobble [8]            lune [8] \n",
      "       cavalier [8]           arbre [8]           igloo [8]          bougie [8]           bombe [8] \n",
      "           chat [8]         carotte [8]         gruyere [8]    sensinterdit [8]          goutte [8] \n",
      "         soleil [8]          trefle [8]          eclair [8]         ciseaux [8]        araignee [8] \n",
      "         taches [8]           cible [8] "
     ]
    }
   ],
   "source": [
    "columns = 5\n",
    "\n",
    "for i, (symbol, scards) in enumerate(symbol_cards_list):\n",
    "    print(f\"{symbol:>15s} [{len(scards)}] \", end=\"\")\n",
    "    if (i+1) % columns == 0:\n",
    "        print()    "
   ]
  },
  {
   "cell_type": "markdown",
   "metadata": {},
   "source": [
    "### les cartes en fonction des symboles"
   ]
  },
  {
   "cell_type": "code",
   "execution_count": 13,
   "metadata": {},
   "outputs": [
    {
     "name": "stdout",
     "output_type": "stream",
     "text": [
      "bonhommeneige   05 - 08 - 52 - 24 - 25 - 28\n",
      "bonhomme        01 - 43 - 13 - 48 - 54 - 23 - 26\n",
      "exclamation     01 - 33 - 04 - 44 - 46 - 49 - 30\n",
      "oeil            02 - 35 - 36 - 38 - 54 - 27 - 31\n",
      "cactus          32 - 02 - 40 - 42 - 47 - 53 - 30\n",
      "trex            03 - 07 - 39 - 44 - 14 - 27 - 29\n",
      "coccinelle      34 - 03 - 06 - 41 - 20 - 53 - 26\n",
      "marguerite      04 - 38 - 06 - 18 - 50 - 51 - 22\n",
      "marteau         32 - 07 - 09 - 43 - 16 - 50 - 55\n",
      "erable          33 - 36 - 09 - 11 - 12 - 45 - 20\n",
      "chien           40 - 10 - 12 - 13 - 18 - 21 - 29\n",
      "glacon          37 - 41 - 10 - 46 - 16 - 17 - 31\n",
      "crane           11 - 14 - 47 - 17 - 19 - 51 - 23\n",
      "ampoule         37 - 39 - 42 - 45 - 15 - 48 - 22\n",
      "interrogation   34 - 35 - 15 - 49 - 19 - 21 - 55\n",
      "feu             01 - 06 - 42 - 11 - 16 - 52 - 21 - 27\n",
      "coeur           01 - 34 - 36 - 07 - 10 - 47 - 22 - 28\n",
      "pioupiou        32 - 01 - 03 - 05 - 37 - 38 - 12 - 19\n",
      "lunettes        01 - 45 - 14 - 18 - 53 - 55 - 25 - 31\n",
      "toile           01 - 02 - 08 - 09 - 41 - 15 - 51 - 29\n",
      "yinyang         01 - 35 - 39 - 40 - 17 - 50 - 20 - 24\n",
      "flocon          33 - 02 - 34 - 05 - 39 - 16 - 18 - 23\n",
      "biberon         02 - 10 - 44 - 45 - 50 - 19 - 52 - 26\n",
      "clesol          02 - 04 - 37 - 43 - 14 - 20 - 21 - 28\n",
      "tortue          02 - 03 - 11 - 13 - 46 - 22 - 55 - 24\n",
      "clown           02 - 06 - 07 - 12 - 48 - 17 - 49 - 25\n",
      "ancre           03 - 04 - 35 - 09 - 10 - 42 - 23 - 25\n",
      "pomme           33 - 03 - 08 - 47 - 48 - 50 - 21 - 31\n",
      "dauphin         03 - 36 - 43 - 15 - 17 - 18 - 52 - 30\n",
      "fantome         03 - 40 - 45 - 16 - 49 - 51 - 54 - 28\n",
      "cle             04 - 36 - 16 - 48 - 19 - 53 - 24 - 29\n",
      "cadenas         32 - 34 - 04 - 08 - 13 - 45 - 17 - 27\n",
      "bouche          04 - 05 - 07 - 40 - 11 - 15 - 26 - 31\n",
      "auto            04 - 39 - 41 - 12 - 47 - 52 - 54 - 55\n",
      "crayon          35 - 05 - 06 - 43 - 45 - 46 - 47 - 29\n",
      "zebre           05 - 10 - 48 - 51 - 20 - 55 - 27 - 30\n",
      "horloge         05 - 09 - 44 - 17 - 21 - 22 - 53 - 54\n",
      "hippocampe      36 - 05 - 41 - 42 - 13 - 14 - 49 - 50\n",
      "dobble          36 - 37 - 06 - 08 - 40 - 44 - 55 - 23\n",
      "lune            32 - 33 - 06 - 10 - 14 - 15 - 54 - 24\n",
      "cavalier        06 - 39 - 09 - 13 - 19 - 28 - 30 - 31\n",
      "arbre           07 - 08 - 42 - 46 - 18 - 19 - 20 - 54\n",
      "igloo           33 - 35 - 37 - 07 - 13 - 51 - 52 - 53\n",
      "bougie          38 - 07 - 41 - 45 - 21 - 23 - 24 - 30\n",
      "bombe           38 - 39 - 08 - 10 - 11 - 43 - 49 - 53\n",
      "chat            35 - 08 - 12 - 14 - 16 - 22 - 26 - 30\n",
      "carotte         37 - 09 - 47 - 49 - 18 - 24 - 26 - 27\n",
      "gruyere         34 - 38 - 40 - 09 - 14 - 46 - 48 - 52\n",
      "sensinterdit    34 - 37 - 11 - 50 - 54 - 25 - 29 - 30\n",
      "goutte          32 - 35 - 41 - 11 - 44 - 48 - 18 - 28\n",
      "soleil          34 - 42 - 43 - 12 - 44 - 51 - 24 - 31\n",
      "trefle          12 - 46 - 15 - 50 - 53 - 23 - 27 - 28\n",
      "eclair          38 - 44 - 13 - 15 - 16 - 47 - 20 - 25\n",
      "ciseaux         33 - 38 - 42 - 17 - 55 - 26 - 28 - 29\n",
      "araignee        33 - 40 - 41 - 43 - 19 - 22 - 25 - 27\n",
      "taches          32 - 49 - 20 - 52 - 22 - 23 - 29 - 31\n",
      "cible           32 - 36 - 39 - 46 - 51 - 21 - 25 - 26\n"
     ]
    }
   ],
   "source": [
    "# en vrac\n",
    "if True:\n",
    "    for symbol, cards in symbol_cards_list:\n",
    "        print(f\"{symbol:15s} \", end=\"\")\n",
    "        print(\" - \".join(f\"{card.counter:02d}\" for card in cards))"
   ]
  },
  {
   "cell_type": "code",
   "execution_count": 18,
   "metadata": {},
   "outputs": [
    {
     "name": "stdout",
     "output_type": "stream",
     "text": [
      "feu             01 - 06 - 11 - 16 - 21 - 27 - 42 - 52\n",
      "coeur           01 - 07 - 10 - 22 - 28 - 34 - 36 - 47\n",
      "pioupiou        01 - 03 - 05 - 12 - 19 - 32 - 37 - 38\n",
      "lunettes        01 - 14 - 18 - 25 - 31 - 45 - 53 - 55\n",
      "toile           01 - 02 - 08 - 09 - 15 - 29 - 41 - 51\n",
      "bonhomme        01 - 13 - 23 - 26 - 43 - 48 - 54\n",
      "exclamation     01 - 04 - 30 - 33 - 44 - 46 - 49\n",
      "yinyang         01 - 17 - 20 - 24 - 35 - 39 - 40 - 50\n",
      "oeil            02 - 27 - 31 - 35 - 36 - 38 - 54\n",
      "flocon          02 - 05 - 16 - 18 - 23 - 33 - 34 - 39\n",
      "biberon         02 - 10 - 19 - 26 - 44 - 45 - 50 - 52\n",
      "clesol          02 - 04 - 14 - 20 - 21 - 28 - 37 - 43\n",
      "tortue          02 - 03 - 11 - 13 - 22 - 24 - 46 - 55\n",
      "clown           02 - 06 - 07 - 12 - 17 - 25 - 48 - 49\n",
      "cactus          02 - 30 - 32 - 40 - 42 - 47 - 53\n",
      "fantome         03 - 16 - 28 - 40 - 45 - 49 - 51 - 54\n",
      "pomme           03 - 08 - 21 - 31 - 33 - 47 - 48 - 50\n",
      "trex            03 - 07 - 14 - 27 - 29 - 39 - 44\n",
      "dauphin         03 - 15 - 17 - 18 - 30 - 36 - 43 - 52\n",
      "coccinelle      03 - 06 - 20 - 26 - 34 - 41 - 53\n",
      "ancre           03 - 04 - 09 - 10 - 23 - 25 - 35 - 42\n",
      "cle             04 - 16 - 19 - 24 - 29 - 36 - 48 - 53\n",
      "cadenas         04 - 08 - 13 - 17 - 27 - 32 - 34 - 45\n",
      "marguerite      04 - 06 - 18 - 22 - 38 - 50 - 51\n",
      "bouche          04 - 05 - 07 - 11 - 15 - 26 - 31 - 40\n",
      "auto            04 - 12 - 39 - 41 - 47 - 52 - 54 - 55\n",
      "crayon          05 - 06 - 29 - 35 - 43 - 45 - 46 - 47\n",
      "bonhommeneige   05 - 08 - 24 - 25 - 28 - 52\n",
      "zebre           05 - 10 - 20 - 27 - 30 - 48 - 51 - 55\n",
      "horloge         05 - 09 - 17 - 21 - 22 - 44 - 53 - 54\n",
      "hippocampe      05 - 13 - 14 - 36 - 41 - 42 - 49 - 50\n",
      "dobble          06 - 08 - 23 - 36 - 37 - 40 - 44 - 55\n",
      "lune            06 - 10 - 14 - 15 - 24 - 32 - 33 - 54\n",
      "cavalier        06 - 09 - 13 - 19 - 28 - 30 - 31 - 39\n",
      "arbre           07 - 08 - 18 - 19 - 20 - 42 - 46 - 54\n",
      "marteau         07 - 09 - 16 - 32 - 43 - 50 - 55\n",
      "igloo           07 - 13 - 33 - 35 - 37 - 51 - 52 - 53\n",
      "bougie          07 - 21 - 23 - 24 - 30 - 38 - 41 - 45\n",
      "bombe           08 - 10 - 11 - 38 - 39 - 43 - 49 - 53\n",
      "chat            08 - 12 - 14 - 16 - 22 - 26 - 30 - 35\n",
      "erable          09 - 11 - 12 - 20 - 33 - 36 - 45\n",
      "carotte         09 - 18 - 24 - 26 - 27 - 37 - 47 - 49\n",
      "gruyere         09 - 14 - 34 - 38 - 40 - 46 - 48 - 52\n",
      "chien           10 - 12 - 13 - 18 - 21 - 29 - 40\n",
      "glacon          10 - 16 - 17 - 31 - 37 - 41 - 46\n",
      "sensinterdit    11 - 25 - 29 - 30 - 34 - 37 - 50 - 54\n",
      "crane           11 - 14 - 17 - 19 - 23 - 47 - 51\n",
      "goutte          11 - 18 - 28 - 32 - 35 - 41 - 44 - 48\n",
      "soleil          12 - 24 - 31 - 34 - 42 - 43 - 44 - 51\n",
      "trefle          12 - 15 - 23 - 27 - 28 - 46 - 50 - 53\n",
      "eclair          13 - 15 - 16 - 20 - 25 - 38 - 44 - 47\n",
      "ampoule         15 - 22 - 37 - 39 - 42 - 45 - 48\n",
      "interrogation   15 - 19 - 21 - 34 - 35 - 49 - 55\n",
      "ciseaux         17 - 26 - 28 - 29 - 33 - 38 - 42 - 55\n",
      "araignee        19 - 22 - 25 - 27 - 33 - 40 - 41 - 43\n",
      "taches          20 - 22 - 23 - 29 - 31 - 32 - 49 - 52\n",
      "cible           21 - 25 - 26 - 32 - 36 - 39 - 46 - 51\n"
     ]
    }
   ],
   "source": [
    "# la même chose mais en ordonnant un peu\n",
    "displayed_symbols = set()\n",
    "    \n",
    "for card in all_cards:\n",
    "    # spot all symbols attached\n",
    "    symbols = {symbol for symbol, cards in symbol_to_cards.items() if card in cards}\n",
    "    for symbol in symbols:\n",
    "        if symbol in displayed_symbols: \n",
    "            continue\n",
    "        print(f\"{symbol:15s} \", end=\"\")\n",
    "        cards_list = list(symbol_to_cards[symbol])\n",
    "        cards_list.sort(key=lambda c: c.counter)\n",
    "        print(\" - \".join(f\"{card.counter:02d}\" for card in cards_list))\n",
    "        displayed_symbols.add(symbol)"
   ]
  }
 ],
 "metadata": {
  "kernelspec": {
   "display_name": "Python 3",
   "language": "python",
   "name": "python3"
  },
  "language_info": {
   "codemirror_mode": {
    "name": "ipython",
    "version": 3
   },
   "file_extension": ".py",
   "mimetype": "text/x-python",
   "name": "python",
   "nbconvert_exporter": "python",
   "pygments_lexer": "ipython3",
   "version": "3.6.4"
  }
 },
 "nbformat": 4,
 "nbformat_minor": 2
}
