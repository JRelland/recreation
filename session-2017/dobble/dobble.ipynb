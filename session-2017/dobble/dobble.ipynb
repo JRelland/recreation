{
 "cells": [
  {
   "cell_type": "markdown",
   "metadata": {},
   "source": [
    "# Le jeu de dobble"
   ]
  },
  {
   "cell_type": "markdown",
   "metadata": {},
   "source": [
    "## présentation"
   ]
  },
  {
   "cell_type": "markdown",
   "metadata": {
    "cell_style": "split"
   },
   "source": [
    "Le dobble est un jeu de cartes:\n",
    "\n",
    "* chaque carte possède huit symboles,\n",
    "* quelque soit une paire de cartes, elles ont en commun exactement un symbole"
   ]
  },
  {
   "cell_type": "markdown",
   "metadata": {
    "cell_style": "split"
   },
   "source": [
    "![dobble](dobble.png)"
   ]
  },
  {
   "cell_type": "markdown",
   "metadata": {},
   "source": [
    "## données brutes"
   ]
  },
  {
   "cell_type": "markdown",
   "metadata": {
    "cell_style": "center"
   },
   "source": [
    "On vous donne la liste des cartes, dans un ordre totalement aléatoire:"
   ]
  },
  {
   "cell_type": "code",
   "execution_count": null,
   "metadata": {
    "cell_style": "center"
   },
   "outputs": [],
   "source": [
    "# il y en a davantage que ça, mais pour vous donner une idée:\n",
    "# une carte par ligne\n",
    "!head -8 cards.raw"
   ]
  },
  {
   "cell_type": "markdown",
   "metadata": {},
   "source": [
    "## construction du paquet de cartes"
   ]
  },
  {
   "cell_type": "code",
   "execution_count": null,
   "metadata": {},
   "outputs": [],
   "source": [
    "# une carte est un ensemble de symboles\n",
    "# et un symbole est représenté par une simple chaine\n",
    "class Card(set):\n",
    "    \"\"\"\n",
    "    le modèle pour chaque carte du jeu\n",
    "    \"\"\"\n",
    "    \n",
    "    # on leur donne un numéro arbitraire\n",
    "    # dans l'ordre du paquet \n",
    "    counter = 1\n",
    "    \n",
    "    def __init__(self, *args, **kwds):\n",
    "        set.__init__(self, *args, **kwds)\n",
    "        self.counter = Card.counter \n",
    "        Card.counter += 1\n",
    "        \n",
    "    def __repr__(self):\n",
    "        return f\"[{self.counter:2d}] \" + set.__repr__(self)\n",
    "    \n",
    "    def __hash__(self):\n",
    "        return self.counter"
   ]
  },
  {
   "cell_type": "code",
   "execution_count": null,
   "metadata": {},
   "outputs": [],
   "source": [
    "def read_cards():\n",
    "    with open('cards.raw') as f:\n",
    "        return [Card(line.split()) for line in f]"
   ]
  },
  {
   "cell_type": "markdown",
   "metadata": {},
   "source": [
    "Attention à ne pas utiliser juste `cards` parce que c'est un nom de variable qu'on va massivement utiliser"
   ]
  },
  {
   "cell_type": "code",
   "execution_count": null,
   "metadata": {},
   "outputs": [],
   "source": [
    "all_cards = read_cards()\n",
    "print(f\"we have {len(all_cards)} cards\")"
   ]
  },
  {
   "cell_type": "markdown",
   "metadata": {},
   "source": [
    "### combien de symboles"
   ]
  },
  {
   "cell_type": "code",
   "execution_count": null,
   "metadata": {},
   "outputs": [],
   "source": [
    "symbols = set()\n",
    "for card in all_cards:\n",
    "    symbols = symbols | card\n",
    "print(f\"we have {len(symbols)} symbols\")"
   ]
  },
  {
   "cell_type": "code",
   "execution_count": null,
   "metadata": {},
   "outputs": [],
   "source": [
    "# la liste des symboles, un peu mise en forme\n",
    "columns = 7\n",
    "for i, symbol in enumerate(symbols):\n",
    "    print(f\"{symbol:16s}\", end=\"\")\n",
    "    if (i+1) % columns == 0:\n",
    "        print()"
   ]
  },
  {
   "cell_type": "markdown",
   "metadata": {},
   "source": [
    "## vérifications"
   ]
  },
  {
   "cell_type": "markdown",
   "metadata": {},
   "source": [
    "#### toutes les cartes ont 8 symboles"
   ]
  },
  {
   "cell_type": "code",
   "execution_count": null,
   "metadata": {},
   "outputs": [],
   "source": [
    "for card in all_cards:\n",
    "    if len(card) != 8:\n",
    "        print(f\"OOPS {card} -> {len(card)}\")"
   ]
  },
  {
   "cell_type": "markdown",
   "metadata": {},
   "source": [
    "#### exactement un point commun entre 2 cartes quelconques"
   ]
  },
  {
   "cell_type": "code",
   "execution_count": null,
   "metadata": {},
   "outputs": [],
   "source": [
    "# un table de hash : card1, card2 -> symbole\n",
    "common_symbol = {}\n",
    "\n",
    "# on range les conflits par cardinal de l'intersection (0 ou 2)\n",
    "for c1 in all_cards:\n",
    "    for c2 in all_cards:\n",
    "        # comme on est sûr que les deux boucles se font\n",
    "        # dans le même ordre, on peut mettre break \n",
    "        # si on fait continue, on a deux fois trop de couples \n",
    "        if c1 is c2:\n",
    "            continue\n",
    "        # combien de cartes en commun\n",
    "        common = (c1 & c2)\n",
    "        if len(common) != 1:\n",
    "            print(f\"--- between {c1} and {c2}: {common} common items:\\n\")\n",
    "            print(common)\n",
    "        else:\n",
    "            common_symbol[c1, c2] = common.pop()"
   ]
  },
  {
   "cell_type": "markdown",
   "metadata": {},
   "source": [
    "### symboles les plus utilisés"
   ]
  },
  {
   "cell_type": "code",
   "execution_count": null,
   "metadata": {},
   "outputs": [],
   "source": [
    "from collections import defaultdict"
   ]
  },
  {
   "cell_type": "markdown",
   "metadata": {},
   "source": [
    "`symbol_to_cards` : un hash (dictionnaire) qui associe à un symbole l'ensemble des cartes où il apparaît"
   ]
  },
  {
   "cell_type": "code",
   "execution_count": null,
   "metadata": {},
   "outputs": [],
   "source": [
    "symbol_to_cards = defaultdict(set)\n",
    "\n",
    "for card in all_cards:\n",
    "    for symbol in card:\n",
    "        symbol_to_cards[symbol].add(card)"
   ]
  },
  {
   "cell_type": "markdown",
   "metadata": {},
   "source": [
    "On le trie par fréquence d'apparition :"
   ]
  },
  {
   "cell_type": "code",
   "execution_count": null,
   "metadata": {},
   "outputs": [],
   "source": [
    "# symbol_cards_list est une liste de tuples de la forme\n",
    "# symbole, [carte1, carte2, ...]\n",
    "symbol_cards_list = list(symbol_to_cards.items())\n",
    "symbol_cards_list[:2]"
   ]
  },
  {
   "cell_type": "code",
   "execution_count": null,
   "metadata": {},
   "outputs": [],
   "source": [
    "# on le trie sur la taille de la partie droite du tuple \n",
    "symbol_cards_list.sort(key=lambda item: len(item[1]))\n",
    "symbol_cards_list[:2]"
   ]
  },
  {
   "cell_type": "code",
   "execution_count": null,
   "metadata": {},
   "outputs": [],
   "source": [
    "# de nouveau on essaie d'afficher tout ça sur une page\n",
    "# les cartes qui apparaissent le moins sont en premier\n",
    "\n",
    "columns = 5\n",
    "\n",
    "for i, (symbol, scards) in enumerate(symbol_cards_list):\n",
    "    print(f\"{symbol:>15s} [{len(scards)}] \", end=\"\")\n",
    "    if (i+1) % columns == 0:\n",
    "        print()    "
   ]
  },
  {
   "cell_type": "markdown",
   "metadata": {},
   "source": [
    "## les cartes en fonction des symboles"
   ]
  },
  {
   "cell_type": "markdown",
   "metadata": {},
   "source": [
    "Pour montrer la même information mais avec le détail des cartes.  \n",
    "Par exemple, on sait que `bonhommeneige` apparait sur 6 cartes mais maintenant on veut voir lesquelles:"
   ]
  },
  {
   "cell_type": "code",
   "execution_count": null,
   "metadata": {},
   "outputs": [],
   "source": [
    "cards = list(symbol_cards_list[0][1])[0].counter"
   ]
  },
  {
   "cell_type": "code",
   "execution_count": null,
   "metadata": {},
   "outputs": [],
   "source": [
    "# en vrac\n",
    "if True:\n",
    "    for symbol, cards in symbol_cards_list:\n",
    "        print(f\"{symbol:15s} \", end=\"\")\n",
    "        print(\" - \".join(f\"{card.counter:02d}\" for card in sorted(cards, key=lambda card: card.counter)))"
   ]
  },
  {
   "cell_type": "markdown",
   "metadata": {},
   "source": [
    "## nombre de fois qu'un symbole est un point commun"
   ]
  },
  {
   "cell_type": "code",
   "execution_count": null,
   "metadata": {},
   "outputs": [],
   "source": [
    "occurrences = defaultdict(int)\n",
    "\n",
    "for c1 in all_cards:\n",
    "    for c2 in all_cards:\n",
    "        if c1 is c2:\n",
    "            # si on mettait continue ici on n'aurait le bon nombre mais double\n",
    "            break\n",
    "        common = common_symbol[c1, c2]\n",
    "        occurrences[common] += 1"
   ]
  },
  {
   "cell_type": "code",
   "execution_count": null,
   "metadata": {},
   "outputs": [],
   "source": [
    "# de nouveau on essaie d'afficher tout ça sur une page\n",
    "# les cartes qui apparaissent le moins sont en premier\n",
    "\n",
    "less_often_first = sorted(occurrences.items(), key=lambda couple: couple[1])\n",
    "\n",
    "columns = 5\n",
    "\n",
    "for i, (symbol, occurrences) in enumerate(less_often_first):\n",
    "    print(f\"{symbol:>15s} [{occurrences}] \", end=\"\")\n",
    "    if (i+1) % columns == 0:\n",
    "        print()    "
   ]
  },
  {
   "cell_type": "markdown",
   "metadata": {},
   "source": [
    "## une petite vérification"
   ]
  },
  {
   "cell_type": "code",
   "execution_count": null,
   "metadata": {},
   "outputs": [],
   "source": [
    "# en tout on a un nombre de paires de cartes\n",
    "number_cards = len(all_cards)\n",
    "total_pairs = number_cards * (number_cards-1) // 2\n",
    "\n",
    "total_pairs"
   ]
  },
  {
   "cell_type": "code",
   "execution_count": null,
   "metadata": {},
   "outputs": [],
   "source": [
    "# qui doit correspondre avec la somme des occurrences de points communs \n",
    "# qu'on vient de calculer\n",
    "sum(couple[1] for couple in less_often_first)"
   ]
  },
  {
   "cell_type": "markdown",
   "metadata": {},
   "source": [
    "## une remarque"
   ]
  },
  {
   "cell_type": "markdown",
   "metadata": {},
   "source": [
    "C'est troublant tout de même que tous ces nombres d'occurrences font partie de la même suite:"
   ]
  },
  {
   "cell_type": "code",
   "execution_count": null,
   "metadata": {},
   "outputs": [],
   "source": [
    "# (1, 3, 6, 10,) 15, 21, 28\n",
    "for n in range(1, 8):\n",
    "    print(n*(n+1)//2)"
   ]
  }
 ],
 "metadata": {
  "kernelspec": {
   "display_name": "Python 3",
   "language": "python",
   "name": "python3"
  },
  "language_info": {
   "codemirror_mode": {
    "name": "ipython",
    "version": 3
   },
   "file_extension": ".py",
   "mimetype": "text/x-python",
   "name": "python",
   "nbconvert_exporter": "python",
   "pygments_lexer": "ipython3",
   "version": "3.7.0"
  }
 },
 "nbformat": 4,
 "nbformat_minor": 2
}
